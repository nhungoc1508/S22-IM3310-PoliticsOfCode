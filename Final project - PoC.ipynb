{
 "cells": [
  {
   "cell_type": "code",
   "execution_count": 41,
   "id": "77420779",
   "metadata": {},
   "outputs": [],
   "source": [
    "from bs4 import BeautifulSoup # the library that provides the HTTP calls etc.\n",
    "from urllib.request import urlopen, Request"
   ]
  },
  {
   "cell_type": "code",
   "execution_count": 11,
   "id": "3e876ce3",
   "metadata": {},
   "outputs": [
    {
     "ename": "HTTPError",
     "evalue": "HTTP Error 403: Forbidden",
     "output_type": "error",
     "traceback": [
      "\u001b[0;31m---------------------------------------------------------------------------\u001b[0m",
      "\u001b[0;31mHTTPError\u001b[0m                                 Traceback (most recent call last)",
      "Input \u001b[0;32mIn [11]\u001b[0m, in \u001b[0;36m<cell line: 6>\u001b[0;34m()\u001b[0m\n\u001b[1;32m      2\u001b[0m \u001b[38;5;66;03m# raw = urlopen(url).read() # open the page and get the html\u001b[39;00m\n\u001b[1;32m      3\u001b[0m \u001b[38;5;66;03m# soup = BeautifulSoup(raw ,\"html.parser\") # parse html\u001b[39;00m\n\u001b[1;32m      5\u001b[0m req \u001b[38;5;241m=\u001b[39m Request(url, headers\u001b[38;5;241m=\u001b[39m{\u001b[38;5;124m'\u001b[39m\u001b[38;5;124mUser-Agent\u001b[39m\u001b[38;5;124m'\u001b[39m: \u001b[38;5;124m'\u001b[39m\u001b[38;5;124mMozilla/5.0\u001b[39m\u001b[38;5;124m'\u001b[39m})\n\u001b[0;32m----> 6\u001b[0m webpage \u001b[38;5;241m=\u001b[39m \u001b[43murlopen\u001b[49m\u001b[43m(\u001b[49m\u001b[43mreq\u001b[49m\u001b[43m)\u001b[49m\u001b[38;5;241m.\u001b[39mread()\n\u001b[1;32m      7\u001b[0m page_soup \u001b[38;5;241m=\u001b[39m BeautifulSoup(webpage, \u001b[38;5;124m\"\u001b[39m\u001b[38;5;124mhtml.parser\u001b[39m\u001b[38;5;124m\"\u001b[39m)\n",
      "File \u001b[0;32m~/opt/anaconda3/lib/python3.8/urllib/request.py:222\u001b[0m, in \u001b[0;36murlopen\u001b[0;34m(url, data, timeout, cafile, capath, cadefault, context)\u001b[0m\n\u001b[1;32m    220\u001b[0m \u001b[38;5;28;01melse\u001b[39;00m:\n\u001b[1;32m    221\u001b[0m     opener \u001b[38;5;241m=\u001b[39m _opener\n\u001b[0;32m--> 222\u001b[0m \u001b[38;5;28;01mreturn\u001b[39;00m \u001b[43mopener\u001b[49m\u001b[38;5;241;43m.\u001b[39;49m\u001b[43mopen\u001b[49m\u001b[43m(\u001b[49m\u001b[43murl\u001b[49m\u001b[43m,\u001b[49m\u001b[43m \u001b[49m\u001b[43mdata\u001b[49m\u001b[43m,\u001b[49m\u001b[43m \u001b[49m\u001b[43mtimeout\u001b[49m\u001b[43m)\u001b[49m\n",
      "File \u001b[0;32m~/opt/anaconda3/lib/python3.8/urllib/request.py:531\u001b[0m, in \u001b[0;36mOpenerDirector.open\u001b[0;34m(self, fullurl, data, timeout)\u001b[0m\n\u001b[1;32m    529\u001b[0m \u001b[38;5;28;01mfor\u001b[39;00m processor \u001b[38;5;129;01min\u001b[39;00m \u001b[38;5;28mself\u001b[39m\u001b[38;5;241m.\u001b[39mprocess_response\u001b[38;5;241m.\u001b[39mget(protocol, []):\n\u001b[1;32m    530\u001b[0m     meth \u001b[38;5;241m=\u001b[39m \u001b[38;5;28mgetattr\u001b[39m(processor, meth_name)\n\u001b[0;32m--> 531\u001b[0m     response \u001b[38;5;241m=\u001b[39m \u001b[43mmeth\u001b[49m\u001b[43m(\u001b[49m\u001b[43mreq\u001b[49m\u001b[43m,\u001b[49m\u001b[43m \u001b[49m\u001b[43mresponse\u001b[49m\u001b[43m)\u001b[49m\n\u001b[1;32m    533\u001b[0m \u001b[38;5;28;01mreturn\u001b[39;00m response\n",
      "File \u001b[0;32m~/opt/anaconda3/lib/python3.8/urllib/request.py:640\u001b[0m, in \u001b[0;36mHTTPErrorProcessor.http_response\u001b[0;34m(self, request, response)\u001b[0m\n\u001b[1;32m    637\u001b[0m \u001b[38;5;66;03m# According to RFC 2616, \"2xx\" code indicates that the client's\u001b[39;00m\n\u001b[1;32m    638\u001b[0m \u001b[38;5;66;03m# request was successfully received, understood, and accepted.\u001b[39;00m\n\u001b[1;32m    639\u001b[0m \u001b[38;5;28;01mif\u001b[39;00m \u001b[38;5;129;01mnot\u001b[39;00m (\u001b[38;5;241m200\u001b[39m \u001b[38;5;241m<\u001b[39m\u001b[38;5;241m=\u001b[39m code \u001b[38;5;241m<\u001b[39m \u001b[38;5;241m300\u001b[39m):\n\u001b[0;32m--> 640\u001b[0m     response \u001b[38;5;241m=\u001b[39m \u001b[38;5;28;43mself\u001b[39;49m\u001b[38;5;241;43m.\u001b[39;49m\u001b[43mparent\u001b[49m\u001b[38;5;241;43m.\u001b[39;49m\u001b[43merror\u001b[49m\u001b[43m(\u001b[49m\n\u001b[1;32m    641\u001b[0m \u001b[43m        \u001b[49m\u001b[38;5;124;43m'\u001b[39;49m\u001b[38;5;124;43mhttp\u001b[39;49m\u001b[38;5;124;43m'\u001b[39;49m\u001b[43m,\u001b[49m\u001b[43m \u001b[49m\u001b[43mrequest\u001b[49m\u001b[43m,\u001b[49m\u001b[43m \u001b[49m\u001b[43mresponse\u001b[49m\u001b[43m,\u001b[49m\u001b[43m \u001b[49m\u001b[43mcode\u001b[49m\u001b[43m,\u001b[49m\u001b[43m \u001b[49m\u001b[43mmsg\u001b[49m\u001b[43m,\u001b[49m\u001b[43m \u001b[49m\u001b[43mhdrs\u001b[49m\u001b[43m)\u001b[49m\n\u001b[1;32m    643\u001b[0m \u001b[38;5;28;01mreturn\u001b[39;00m response\n",
      "File \u001b[0;32m~/opt/anaconda3/lib/python3.8/urllib/request.py:569\u001b[0m, in \u001b[0;36mOpenerDirector.error\u001b[0;34m(self, proto, *args)\u001b[0m\n\u001b[1;32m    567\u001b[0m \u001b[38;5;28;01mif\u001b[39;00m http_err:\n\u001b[1;32m    568\u001b[0m     args \u001b[38;5;241m=\u001b[39m (\u001b[38;5;28mdict\u001b[39m, \u001b[38;5;124m'\u001b[39m\u001b[38;5;124mdefault\u001b[39m\u001b[38;5;124m'\u001b[39m, \u001b[38;5;124m'\u001b[39m\u001b[38;5;124mhttp_error_default\u001b[39m\u001b[38;5;124m'\u001b[39m) \u001b[38;5;241m+\u001b[39m orig_args\n\u001b[0;32m--> 569\u001b[0m     \u001b[38;5;28;01mreturn\u001b[39;00m \u001b[38;5;28;43mself\u001b[39;49m\u001b[38;5;241;43m.\u001b[39;49m\u001b[43m_call_chain\u001b[49m\u001b[43m(\u001b[49m\u001b[38;5;241;43m*\u001b[39;49m\u001b[43margs\u001b[49m\u001b[43m)\u001b[49m\n",
      "File \u001b[0;32m~/opt/anaconda3/lib/python3.8/urllib/request.py:502\u001b[0m, in \u001b[0;36mOpenerDirector._call_chain\u001b[0;34m(self, chain, kind, meth_name, *args)\u001b[0m\n\u001b[1;32m    500\u001b[0m \u001b[38;5;28;01mfor\u001b[39;00m handler \u001b[38;5;129;01min\u001b[39;00m handlers:\n\u001b[1;32m    501\u001b[0m     func \u001b[38;5;241m=\u001b[39m \u001b[38;5;28mgetattr\u001b[39m(handler, meth_name)\n\u001b[0;32m--> 502\u001b[0m     result \u001b[38;5;241m=\u001b[39m \u001b[43mfunc\u001b[49m\u001b[43m(\u001b[49m\u001b[38;5;241;43m*\u001b[39;49m\u001b[43margs\u001b[49m\u001b[43m)\u001b[49m\n\u001b[1;32m    503\u001b[0m     \u001b[38;5;28;01mif\u001b[39;00m result \u001b[38;5;129;01mis\u001b[39;00m \u001b[38;5;129;01mnot\u001b[39;00m \u001b[38;5;28;01mNone\u001b[39;00m:\n\u001b[1;32m    504\u001b[0m         \u001b[38;5;28;01mreturn\u001b[39;00m result\n",
      "File \u001b[0;32m~/opt/anaconda3/lib/python3.8/urllib/request.py:649\u001b[0m, in \u001b[0;36mHTTPDefaultErrorHandler.http_error_default\u001b[0;34m(self, req, fp, code, msg, hdrs)\u001b[0m\n\u001b[1;32m    648\u001b[0m \u001b[38;5;28;01mdef\u001b[39;00m \u001b[38;5;21mhttp_error_default\u001b[39m(\u001b[38;5;28mself\u001b[39m, req, fp, code, msg, hdrs):\n\u001b[0;32m--> 649\u001b[0m     \u001b[38;5;28;01mraise\u001b[39;00m HTTPError(req\u001b[38;5;241m.\u001b[39mfull_url, code, msg, hdrs, fp)\n",
      "\u001b[0;31mHTTPError\u001b[0m: HTTP Error 403: Forbidden"
     ]
    }
   ],
   "source": [
    "url = \"https://www.similarweb.com/top-websites/category/computers-electronics-and-technology/social-networks-and-online-communities/\" # The url we want to scrape\n",
    "# raw = urlopen(url).read() # open the page and get the html\n",
    "# soup = BeautifulSoup(raw ,\"html.parser\") # parse html\n",
    "\n",
    "req = Request(url, headers={'User-Agent': 'Mozilla/5.0'})\n",
    "webpage = urlopen(req).read()\n",
    "page_soup = BeautifulSoup(webpage, \"html.parser\")\n"
   ]
  },
  {
   "cell_type": "code",
   "execution_count": 28,
   "id": "53c960cb",
   "metadata": {},
   "outputs": [
    {
     "name": "stdout",
     "output_type": "stream",
     "text": [
      "<html>\n",
      "<head>\n",
      "<title>Website Traffic Analysis &amp; Competitive Intelligence | SimilarWeb</title>\n",
      "<meta content=\"noindex\" name=\"robots\"/>\n",
      "<meta charset=\"utf-8\"/>\n",
      "<meta content=\"Website Traffic Analysis &amp; Competitive Intelligence | SimilarWeb\" property=\"og:title\">\n",
      "<meta content=\"SimilarWeb.com\" property=\"og:site_name\">\n",
      "<meta content=\"All in One Website Analytics &amp; Competitive Intelligence platform - Compare website traffic and performance, analyze strategies &amp; grow your market share today!\" property=\"og:description\"/>\n",
      "<meta content=\"website\" property=\"og:type\"/>\n",
      "<meta content=\"https://www.similarweb.com/images/logo.png\" name=\"og:image\"/>\n",
      "<meta content=\"summary\" name=\"twitter:card\"/>\n",
      "<meta content=\"@SimilarWeb\" name=\"twitter:site\"/>\n",
      "<meta content=\"https://www.similarweb.com\" name=\"twitter:domain\"/>\n",
      "<meta content=\"Website Traffic Analysis &amp; Competitive Intelligence | SimilarWeb\" name=\"twitter:title\"/>\n",
      "<meta content=\"All in One Website Analytics &amp; Competitive Intelligence platform - Compare website traffic and performance, analyze strategies &amp; grow your market share today!\" name=\"twitter:description\"/>\n",
      "<meta content=\"https://www.similarweb.com/images/logo.png\" name=\"twitter:image\"/>\n",
      "<link href=\"https://fonts.googleapis.com/css?family=Roboto:300,400,500,700\" rel=\"stylesheet\"/>\n",
      "<style>\n",
      "         html,body{\n",
      "         font-family: Roboto;\n",
      "         }\n",
      "      </style>\n",
      "<style data-styled-components=\"RBcGC eCAMsO xLnBQ erErGy bpPIfG cgLnZA gCNCSW jLuEqK kFtmpj fZRMIc hVzFNv fFklbK glcwcF jlnxqp\" data-styled-components-is-local=\"true\" type=\"text/css\">\n",
      "         .fFklbK{display:-webkit-box;display:-webkit-flex;display:-ms-flexbox;display:flex;width:300px;-webkit-box-pack:justify;-webkit-justify-content:space-between;-ms-flex-pack:justify;justify-content:space-between;}\n",
      "         .glcwcF{color:#1b2653;font-size:56px;text-align:left;position:relative;width:85px;height:66px;top:20px;font-weight:300;}\n",
      "         .jlnxqp{width:18px;height:24px;font-size:20px;color:#1b2653;position:absolute;top:-20px;right:0px;}\n",
      "         .LogoContainer{width:246px;}\n",
      "         .SpaceShipContainer{width:100%;border-bottom:2px solid #D9ECFF;padding-left:54px;box-sizing:border-box;height:124px;margin-bottom:23px;}\n",
      "         .Page{width:100%;height:100%;position:absolute;left:0;top:0;background-color:#FFFFFF;}\n",
      "         .ContentContainer{width:716px;box-sizing:border-box;padding:57px 80px;border:1px solid #ebf0f6;border-radius:4px;margin:125px auto;}\n",
      "         .Title{font-size:30px;color:#1b2653;font-weight:500;margin-bottom:20px;}\n",
      "         .Paragraph{font-size:15px;color:#1b2653;opacity:0.54;margin-bottom:25px;}\n",
      "         .ListContainer{margin-bottom:25px;list-style:disc;}\n",
      "         .ListItem{font-size:15px;color:#1b2653;opacity:0.54;line-height: 22px;}\n",
      "         .Link{color:#ff8100;-webkit-text-decoration:none;text-decoration:none;font-weight:600;}\n",
      "         .Link:visited{color:#ff8100;}\n",
      "         .TopBarContainer{position:absolute;top:0;left:0;width:100%;height:98px;}\n",
      "         .TopBarGradient{width:100%;height:29px;background:linear-gradient(to bottom,#f8fcff 0%,#ffffff 100%);position:absolute;bottom:0;left:0;}\n",
      "         .noMargin{margin:0}\n",
      "         .noOpacity{opacity: 1;}\n",
      "         #dCF_captcha_text{opacity:0.54}\n",
      "         .px-captcha{padding: 20px 0 0px 0;}\n",
      "         @media only screen and (max-width: 768px) {\n",
      "            .ContentContainer {width: 80%}\n",
      "        }\n",
      "        \n",
      "      </style>\n",
      "<!-- Custom CSS -->\n",
      "</meta></meta></head>\n",
      "<body>\n",
      "<div id=\"captcha-app\">\n",
      "<div class=\"Page\">\n",
      "<div class=\"TopBarContainer\">\n",
      "<div class=\"LogoContainer\">\n",
      "<img alt=\"Logo\" src=\"https://www.similarweb.com/corp/wp-content/uploads/2021/10/sw-logo-rebranded.png\"/>\n",
      "</div>\n",
      "<div class=\"TopBarGradient\"></div>\n",
      "</div>\n",
      "<div class=\"ContentContainer\">\n",
      "<div class=\"SpaceShipContainer\">\n",
      "<svg height=\"123px\" version=\"1.1\" viewbox=\"0 0 106 123\" width=\"106px\" xmlns=\"http://www.w3.org/2000/svg\">\n",
      "<defs>\n",
      "<lineargradient id=\"linearGradient-1\" x1=\"45.7166367%\" x2=\"47.7452604%\" y1=\"125.832802%\" y2=\"42.0758774%\">\n",
      "<stop offset=\"0%\" stop-color=\"#3063BB\"></stop>\n",
      "<stop offset=\"100%\" stop-color=\"#0E1442\"></stop>\n",
      "</lineargradient>\n",
      "</defs>\n",
      "<g fill=\"none\" fill-rule=\"evenodd\" id=\"Page-1\" stroke=\"none\" stroke-width=\"1\">\n",
      "<g id=\"Bot---desktop\" transform=\"translate(-715.000000, -190.000000)\">\n",
      "<g id=\"desktop\" transform=\"translate(663.000000, 189.000000)\">\n",
      "<g id=\"Group\" transform=\"translate(51.000000, 0.000000)\">\n",
      "<path d=\"M65,12 C65.6653144,10.6789536 66.3691684,9.33848593 67,8\" id=\"Stroke-102\" stroke=\"#171F66\" stroke-linecap=\"round\" stroke-linejoin=\"round\" stroke-width=\"2.39999986\"></path>\n",
      "<path d=\"M72.1650041,2.8908021 C75.0874816,5.55231998 69.6135787,9.95578186 66.8763749,7.03847758 C64.2275168,4.21619963 68.1233121,0.901329504 71.3926098,2.35297689 L72.1650041,2.8908021 Z\" fill=\"#FF8700\" id=\"Fill-103\" transform=\"translate(69.500000, 5.000000) rotate(-26.000000) translate(-69.500000, -5.000000) \"></path>\n",
      "<path d=\"M46,11 C45.3340984,9.67893819 44.6266118,8.3369502 44,7\" id=\"Stroke-104\" stroke=\"#171F66\" stroke-linecap=\"round\" stroke-linejoin=\"round\" stroke-width=\"2.39999986\"></path>\n",
      "<path d=\"M40.8082298,1.79269427 C38.1632343,4.32433309 42.6451867,8.92229101 45.144261,6.1288587 C47.5619061,3.42638714 44.3813884,-0.0259480451 41.4990538,1.28829784 L40.8082298,1.79269427 Z\" fill=\"#FF8700\" id=\"Fill-105\" transform=\"translate(43.000000, 4.000000) rotate(10.000000) translate(-43.000000, -4.000000) \"></path>\n",
      "<path d=\"M28.0676177,35.8833604 C26.5840585,14.3939203 49.8110486,0.696959168 68.4033604,12.1391765 C73.1226265,15.0434438 77.278635,19.6976038 80.0081538,24.4683604 C82.2725883,28.4258174 83.8726169,33.4013049 82.4793475,38 L28.0676177,35.8833604 Z\" fill=\"#4F8DF9\" id=\"Fill-106\"></path>\n",
      "<path d=\"M15.3419047,36.5267762 C4.19110025,40.9127623 -3.26256042,46.7729617 10.3335091,54.6201038 C20.4259239,60.4450008 54.0248367,63.5254735 66.3594829,62.8034211 C79.7035222,63.8778642 107.131196,60.8008963 106.999528,47.2620013 C106.916807,38.7313607 76.6521415,33.1598303 61.7422749,31.4392603 C49.4071882,30.0158048 26.4926601,32.1408323 15.3419047,36.5267762 Z\" fill=\"url(#linearGradient-1)\" id=\"Fill-109\"></path>\n",
      "<path d=\"M35.8573832,49.4706857 C33.8800758,55.2405281 0.840164206,123.892706 1,124 C55.7490721,123.102658 81.0294875,123.49484 83,122.731984 C70.6520456,58.5126844 70.6702638,54.9067864 70.2679877,51.0954875 C70.064634,44.5423259 39.4999264,42.2135385 35.8573832,49.4706857 Z\" fill=\"#F5F9FD\" fill-opacity=\"0.91\" id=\"Fill-110\"></path>\n",
      "<path d=\"M55.381517,26.0220981 C64.2096008,26.3556948 73.2201772,26.9960491 81.6227754,29.6667991 C82.1563681,29.8240473 81.8608093,29.7448057 82.5129231,29.8949325 C83.1005694,32.0826587 83.1422254,33.9494668 82.7147561,36.1693013 C82.6607025,36.4503722 82.5635053,36.7231279 82.487632,37 L28.067271,34.9704276 C27.9529651,33.4105417 27.9850501,31.8422171 28.1580215,30.2856655 C28.2174804,29.7506922 28.3195374,29.2203294 28.4003202,28.6876613 C35.2911548,26.6381242 42.5888291,26.3198406 49.7615852,26.0466733 C52.8207677,25.9748413 50.9475893,26.0022568 55.381517,26.0220981 Z\" fill=\"#0E1442\" id=\"Fill-111\"></path>\n",
      "<path d=\"M55.2723816,31.0071529 C57.4365177,31.0377827 59.5937037,31.1892662 61.7438417,31.4037154 C76.6528681,33.0589434 106.915828,38.4187523 106.998544,46.6252235 C107.044063,49.0176384 106.019162,51.1975946 104.355534,53 C103.56312,52.2762592 104.016837,52.6918333 102.99683,51.7519372 C99.8863986,48.7431076 94.7829412,46.7473364 90.8247882,44.817659 C86.7623832,42.8372433 81.5355853,41.7220992 77.0449146,40.9074033 C69.6205024,39.5604233 62.3106206,38.2186024 54.7440731,37.7154043 C37.7852453,36.7964291 18.4845143,39.0438196 5.96540568,50.7347353 C-2.517777,43.8553795 9.28576102,38.6408793 15.3460372,36.2979433 C27.7497344,32.0874425 42.1651541,30.8945458 55.2723816,31.0071529 Z\" fill=\"#2E388F\" id=\"Fill-113\"></path>\n",
      "<path d=\"M11.9114234,39.0746876 C10.1157678,39.6238899 11.2337131,42.5900674 13.0172768,41.8951414 C14.7427217,41.222861 13.9904038,39.0348583 12.3464458,39 L11.9114234,39.0746876 Z\" fill=\"#FFC100\" id=\"Fill-114\"></path>\n",
      "<path d=\"M28.9114234,34.0746876 C27.1157678,34.6238899 28.2337131,37.5900674 30.0172768,36.8951414 C31.7427217,36.222861 30.9904038,34.0348583 29.3464458,34 L28.9114234,34.0746876 Z\" fill=\"#FFC100\" id=\"Fill-114-Copy\"></path>\n",
      "<path d=\"M55.9114234,32.0746876 C54.1157678,32.6238899 55.2337131,35.5900674 57.0172768,34.8951414 C58.7427217,34.222861 57.9904038,32.0348583 56.3464458,32 L55.9114234,32.0746876 Z\" fill=\"#FFC100\" id=\"Fill-114-Copy-2\"></path>\n",
      "<path d=\"M82.9114234,36.0746876 C81.1157678,36.6238899 82.2337131,39.5900674 84.0172768,38.8951414 C85.7427217,38.222861 84.9904038,36.0348583 83.3464458,36 L82.9114234,36.0746876 Z\" fill=\"#FFC100\" id=\"Fill-114-Copy-3\"></path>\n",
      "<path d=\"M97.9114234,42.0746876 C96.1157678,42.6238899 97.2337131,45.5900674 99.0172768,44.8951414 C100.742722,44.222861 99.9904038,42.0348583 98.3464458,42 L97.9114234,42.0746876 Z\" fill=\"#FFC100\" id=\"Fill-114-Copy-4\"></path>\n",
      "<path d=\"M61,34.0009661 C65.8469716,33.9634979 72.9395941,35.0226805 79,36\" id=\"Stroke-119\" stroke=\"#171F66\" stroke-linecap=\"round\" stroke-linejoin=\"round\" stroke-width=\"2.39999986\"></path>\n",
      "<path d=\"M34,35 C39.2836515,34.3489062 44.6069427,33.9343908 50,34.0085552\" id=\"Stroke-120\" stroke=\"#171F66\" stroke-linecap=\"round\" stroke-linejoin=\"round\" stroke-width=\"2.39999986\"></path>\n",
      "<path d=\"M17,39 C20.1594861,37.7477514 23.4948066,36.3495503 27,36\" id=\"Stroke-121\" stroke=\"#171F66\" stroke-linecap=\"round\" stroke-linejoin=\"round\" stroke-width=\"2.39999986\"></path>\n",
      "<path d=\"M88,39 C90.1693188,39.2734593 92.3013546,39.9900898 95,41\" id=\"Stroke-122\" stroke=\"#171F66\" stroke-linecap=\"round\" stroke-linejoin=\"round\" stroke-width=\"2.39999986\"></path>\n",
      "</g>\n",
      "</g>\n",
      "</g>\n",
      "</g>\n",
      "</svg>\n",
      "</div>\n",
      "<div class=\"Title\">Pardon Our Interruption...</div>\n",
      "<div class=\"Paragraph\">As you were browsing similarweb.com something about your browser made us think you were a bot. There are a few reasons this might happen:</div>\n",
      "<ul class=\"ListContainer\">\n",
      "<li class=\"ListItem\">You're a power user moving through this website with super-human speed.</li>\n",
      "<li class=\"ListItem\">You've disabled JavaScript in your web browser.</li>\n",
      "</ul>\n",
      "<div class=\"Paragraph noMargin\">After completing the CAPTCHA below, you will immediately regain access to similarweb.com.</div>\n",
      "<div id=\"px-captcha\"></div>\n",
      "<p class=\"ListItem\">Reference ID: #cfe59372-d084-11ec-a53a-546d6e6e6c6f\n",
      "</p></div>\n",
      "</div>\n",
      "</div>\n",
      "<!-- Px -->\n",
      "<script>\n",
      "        window._pxAppId = 'PXkZ1aIzUP';\n",
      "        window._pxJsClientSrc = '/kZ1aIzUP/init.js';\n",
      "        window._pxFirstPartyEnabled = true;\n",
      "        window._pxVid = '';\n",
      "        window._pxUuid = 'cfe59372-d084-11ec-a53a-546d6e6e6c6f';\n",
      "        window._pxHostUrl = '/kZ1aIzUP/xhr';\n",
      "    </script>\n",
      "<script>\n",
      "        var s = document.createElement('script');\n",
      "        s.src = '/kZ1aIzUP/captcha/captcha.js?a=c&u=cfe59372-d084-11ec-a53a-546d6e6e6c6f&v=&m=0';\n",
      "        var p = document.getElementsByTagName('head')[0];\n",
      "        p.insertBefore(s, null);\n",
      "        if (true) {\n",
      "            s.onerror = function () {\n",
      "                s = document.createElement('script');\n",
      "                var suffixIndex = '/kZ1aIzUP/captcha/captcha.js?a=c&u=cfe59372-d084-11ec-a53a-546d6e6e6c6f&v=&m=0'.indexOf('captcha.js');\n",
      "                var temperedBlockScript = '/kZ1aIzUP/captcha/captcha.js?a=c&u=cfe59372-d084-11ec-a53a-546d6e6e6c6f&v=&m=0'.substring(suffixIndex);\n",
      "                s.src = '//captcha.px-cdn.net/PXkZ1aIzUP/' + temperedBlockScript;\n",
      "                p.parentNode.insertBefore(s, p);\n",
      "            };\n",
      "        }\n",
      "    </script>\n",
      "<!-- Custom Script -->\n",
      "</body>\n",
      "</html>\n",
      "\n"
     ]
    }
   ],
   "source": [
    "import requests\n",
    "from requests.exceptions import HTTPError\n",
    "\n",
    "headers = {'User-Agent': 'Mozilla/5.0 (Windows NT 10.0; Win64; x64) AppleWebKit/537.36 (KHTML, like Gecko) Chrome/70.0.3538.77 Safari/537.36'}\n",
    "url = 'https://www.similarweb.com/top-websites/category/computers-electronics-and-technology/social-networks-and-online-communities'\n",
    "responce = requests.get(url,headers=headers)\n",
    "soup = BeautifulSoup(responce.text,'html.parser')\n",
    "print(soup)"
   ]
  },
  {
   "cell_type": "code",
   "execution_count": 61,
   "id": "7e30419c",
   "metadata": {},
   "outputs": [],
   "source": [
    "import time\n",
    "from selenium import webdriver\n",
    "\n",
    "PATH_TO_DRIVER = '/Users/ngochoang/Downloads/chromedriver'\n",
    "driver = webdriver.Chrome(PATH_TO_DRIVER)  # Optional argument, if not specified will search path.\n",
    "driver.get('https://www.similarweb.com/top-websites/australia/category/computers-electronics-and-technology/social-networks-and-online-communities/');\n",
    "# time.sleep(5) # Let the user actually see something!\n",
    "# search_box = driver.find_element_by_name('q')\n",
    "# search_box.send_keys('ChromeDriver')\n",
    "# search_box.submit()\n",
    "# time.sleep(5) # Let the user actually see something!\n",
    "# driver.quit()\n",
    "\n",
    "driver.implicitly_wait(2)\n",
    "# class_name = 'topRankingGrid-table'\n",
    "# grid = driver.find_element_by_class_name(class_name)\n",
    "x_path = \"/html/body[@class='app-banner-parent']/div[@class='wrapperBody--topRanking wrapper-body js-wrapperBody']/main[@class='content']/div/section[@class='topRankingSection']/div[@class='topRankingInner']/div[@class='topWebsites-table']/div[@class='topRankingGrid']/table[@class='topRankingGrid-table topWebsiteGrid-table']/tbody[@class='topRankingGrid-body']/tr[@class='topRankingGrid-row'][1]/td[@class='topRankingGrid-cell topWebsitesGrid-cellWebsite showInMobile']/div[@class='topRankingGrid-popupWrap']/a[@class='topRankingGrid-title js-tooltipTarget']/span[@class='topRankingGrid-titleName']\"\n",
    "cell = driver.find_element_by_xpath(x_path)\n",
    "select = driver.find_element_by_class_name(\"js-countrySelect\")\n",
    "# driver.implicitly_wait(2)\n",
    "# driver.get('https://www.similarweb.com/top-websites/vietnam/category/computers-electronics-and-technology/social-networks-and-online-communities/')\n"
   ]
  },
  {
   "cell_type": "code",
   "execution_count": 62,
   "id": "ed54990c",
   "metadata": {},
   "outputs": [
    {
     "data": {
      "text/plain": [
       "<selenium.webdriver.remote.webelement.WebElement (session=\"1978871256458cf6633a574193dac73c\", element=\"4065e1dc-abf6-4d05-9f0a-45f051211640\")>"
      ]
     },
     "execution_count": 62,
     "metadata": {},
     "output_type": "execute_result"
    }
   ],
   "source": [
    "grid"
   ]
  },
  {
   "cell_type": "code",
   "execution_count": 63,
   "id": "85c1caa4",
   "metadata": {},
   "outputs": [
    {
     "data": {
      "text/plain": [
       "'facebook.com'"
      ]
     },
     "execution_count": 63,
     "metadata": {},
     "output_type": "execute_result"
    }
   ],
   "source": [
    "cell.text"
   ]
  },
  {
   "cell_type": "code",
   "execution_count": 64,
   "id": "9b3efb87",
   "metadata": {},
   "outputs": [
    {
     "data": {
      "text/plain": [
       "<selenium.webdriver.remote.webelement.WebElement (session=\"f02af75ac45906b05508a9d32b1848e8\", element=\"f27c7075-7d4d-4f11-9d45-8be17c70c609\")>"
      ]
     },
     "execution_count": 64,
     "metadata": {},
     "output_type": "execute_result"
    }
   ],
   "source": [
    "select"
   ]
  },
  {
   "cell_type": "code",
   "execution_count": 67,
   "id": "35c26a70",
   "metadata": {},
   "outputs": [],
   "source": [
    "from selenium.webdriver.support.select import Select\n",
    "d = Select(select)\n",
    "options = d.options"
   ]
  },
  {
   "cell_type": "code",
   "execution_count": 72,
   "id": "76fd3901",
   "metadata": {},
   "outputs": [],
   "source": [
    "countries = [option.get_attribute('value') for option in options]"
   ]
  },
  {
   "cell_type": "code",
   "execution_count": 74,
   "id": "1e75657a",
   "metadata": {},
   "outputs": [
    {
     "data": {
      "text/plain": [
       "['Worldwide',\n",
       " 'argentina',\n",
       " 'australia',\n",
       " 'austria',\n",
       " 'belgium',\n",
       " 'brazil',\n",
       " 'bulgaria',\n",
       " 'canada',\n",
       " 'chile',\n",
       " 'colombia',\n",
       " 'croatia',\n",
       " 'czech republic',\n",
       " 'denmark',\n",
       " 'egypt',\n",
       " 'finland',\n",
       " 'france',\n",
       " 'germany',\n",
       " 'greece',\n",
       " 'hong kong',\n",
       " 'hungary',\n",
       " 'india',\n",
       " 'indonesia',\n",
       " 'iraq',\n",
       " 'ireland',\n",
       " 'israel',\n",
       " 'italy',\n",
       " 'japan',\n",
       " 'kuwait',\n",
       " 'malaysia',\n",
       " 'mexico',\n",
       " 'morocco',\n",
       " 'netherlands',\n",
       " 'new zealand',\n",
       " 'norway',\n",
       " 'pakistan',\n",
       " 'peru',\n",
       " 'philippines',\n",
       " 'poland',\n",
       " 'portugal',\n",
       " 'qatar',\n",
       " 'romania',\n",
       " 'russian federation',\n",
       " 'saudi arabia',\n",
       " 'serbia',\n",
       " 'singapore',\n",
       " 'slovakia',\n",
       " 'south africa',\n",
       " 'spain',\n",
       " 'sweden',\n",
       " 'switzerland',\n",
       " 'taiwan',\n",
       " 'thailand',\n",
       " 'turkey',\n",
       " 'ukraine',\n",
       " 'united arab emirates',\n",
       " 'united kingdom',\n",
       " 'united states',\n",
       " 'venezuela, bolivarian republic of',\n",
       " 'vietnam']"
      ]
     },
     "execution_count": 74,
     "metadata": {},
     "output_type": "execute_result"
    }
   ],
   "source": [
    "countries"
   ]
  },
  {
   "cell_type": "code",
   "execution_count": null,
   "id": "bca60d56",
   "metadata": {},
   "outputs": [],
   "source": []
  }
 ],
 "metadata": {
  "kernelspec": {
   "display_name": "Python 3 (ipykernel)",
   "language": "python",
   "name": "python3"
  },
  "language_info": {
   "codemirror_mode": {
    "name": "ipython",
    "version": 3
   },
   "file_extension": ".py",
   "mimetype": "text/x-python",
   "name": "python",
   "nbconvert_exporter": "python",
   "pygments_lexer": "ipython3",
   "version": "3.8.13"
  }
 },
 "nbformat": 4,
 "nbformat_minor": 5
}
